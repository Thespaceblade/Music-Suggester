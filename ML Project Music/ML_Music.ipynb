{
 "cells": [
  {
   "cell_type": "code",
   "execution_count": 2,
   "metadata": {},
   "outputs": [
    {
     "name": "stdout",
     "output_type": "stream",
     "text": [
      "Column Names: ['User_ID', 'User_Text', 'Sentiment_Label', 'Recommended_Song_ID', 'Song_Name', 'Artist', 'Genre', 'Tempo (BPM)', 'Mood', 'Energy', 'Danceability']\n"
     ]
    }
   ],
   "source": [
    "import pandas as pd\n",
    "\n",
    "# Load the dataset\n",
    "file_path = '/Users/jasoncharwin/Extracurriculars/Personal Academic/Data Visualization Projects/music_data.csv'\n",
    "df = pd.read_csv(file_path)\n",
    "\n",
    "# Print actual column names\n",
    "print(\"Column Names:\", df.columns.tolist())  # Check the exact column names"
   ]
  },
  {
   "cell_type": "code",
   "execution_count": null,
   "metadata": {},
   "outputs": [
    {
     "name": "stdout",
     "output_type": "stream",
     "text": [
      "Column Names: ['User_ID', 'User_Text', 'Sentiment_Label', 'Recommended_Song_ID', 'Song_Name', 'Artist', 'Genre', 'Tempo (BPM)', 'Mood', 'Energy', 'Danceability']\n",
      "Sentiment Value Counts: Sentiment_Label\n",
      "Motivated    262\n",
      "Happy        256\n",
      "Sad          243\n",
      "Relaxed      239\n",
      "Name: count, dtype: int64\n",
      "Sentiment_Label\n",
      "Motivated    262\n",
      "Happy        256\n",
      "Sad          243\n",
      "Relaxed      239\n",
      "Name: count, dtype: int64\n",
      "First 5 rows of the dataset:   User_ID                                          User_Text Sentiment_Label  \\\n",
      "0      U1  Way ball purpose public experience recently re...             Sad   \n",
      "1      U2                         Save officer two myself a.           Happy   \n",
      "2      U3  Decade ahead everyone environment themselves a...         Relaxed   \n",
      "3      U4  Best change letter citizen try ask quality pro...           Happy   \n",
      "4      U5                Worker player chance kind actually.           Happy   \n",
      "\n",
      "  Recommended_Song_ID         Song_Name             Artist      Genre  \\\n",
      "0                  S1  Someone Like You              Adele        Pop   \n",
      "1                  S2             Happy  Pharrell Williams        Pop   \n",
      "2                  S3     Clair de Lune            Debussy  Classical   \n",
      "3                  S4             Happy  Pharrell Williams        Pop   \n",
      "4                  S5             Happy  Pharrell Williams        Pop   \n",
      "\n",
      "   Tempo (BPM)         Mood Energy Danceability  \n",
      "0           67  Melancholic    Low          Low  \n",
      "1          160       Joyful   High         High  \n",
      "2           60     Soothing    Low          Low  \n",
      "3          160       Joyful   High         High  \n",
      "4          160       Joyful   High         High  \n"
     ]
    }
   ],
   "source": [
    "print('Column Names:', df.columns.tolist())  # Check the exact column names\n",
    "print('Sentiment Value Counts:', df['Sentiment_Label'].value_counts())  # ✅ Use the correct column name\n",
    "print(df['Sentiment_Label'].value_counts())  # Check the value counts for the 'Sentiment_Label' column\n",
    "\n",
    "#Preview some of the firsta few rows\n",
    "print(\"First 5 rows of the dataset:\", df.head())"
   ]
  },
  {
   "cell_type": "code",
   "execution_count": 4,
   "metadata": {},
   "outputs": [],
   "source": [
    "def get_sentiment(user_input: str) -> str:\n",
    "    \"\"\"This function takes a user input and returns the corresponding sentiment.\"\"\"\n",
    "    user_input = user_input.lower()\n",
    "    if any(word in user_input for word in ['happy', 'joy', 'excited', 'glad', 'fun']):\n",
    "        return 'Happy'\n",
    "    elif any(word in user_input for word in [\"sad\", \"upset\", \"depressed\", \"cry\", \"heartbroken\"]):\n",
    "        return 'Sad'\n",
    "    elif any(word in user_input for word in [\"relax\", \"calm\", \"chill\", \"peaceful\", \"serene\"]):\n",
    "        return \"Relaxed\"\n",
    "    elif any(word in user_input for word in [\"motivate\", \"strong\", \"energy\", \"power\", \"inspire\"]):\n",
    "        return \"Motivated\"\n",
    "    else:\n",
    "        return \"Neutral\"  # Default if no keyword matches"
   ]
  },
  {
   "cell_type": "code",
   "execution_count": 5,
   "metadata": {},
   "outputs": [
    {
     "name": "stdout",
     "output_type": "stream",
     "text": [
      "Happy\n",
      "Sad\n",
      "Relaxed\n",
      "Sad\n"
     ]
    }
   ],
   "source": [
    "#Testing the above function\n",
    "print(get_sentiment(\"I'm feeling happy today!\"))  # Expected Output: 'Happy'\n",
    "print(get_sentiment(\"I'm feeling sad today!\"))  # Expected Output: 'Sad'\n",
    "print(get_sentiment(\"I'm feeling relaxed today!\"))  # Expected Output: 'Relaxed'\n",
    "print(get_sentiment(\"I'm lowkey feelign pretty relaxed, but theres this deep seething sadness inside me\"))"
   ]
  },
  {
   "cell_type": "code",
   "execution_count": 6,
   "metadata": {},
   "outputs": [],
   "source": [
    "\n",
    "import random\n",
    "def recommend_song(user_input:str) -> str:\n",
    "    sentiment = get_sentiment(user_input) #Pulling from other function to get sentiment\n",
    "    \"\"\"This function recommends a song based on the user's input sentiment.\"\"\"\n",
    "    if sentiment == 'Neutral':\n",
    "        return \"I'm sorry, I couldn't understand your sentiment, try expressing an emotion!\"\n",
    "    #Filter songs based on detected sentiment\n",
    "    filtered_songs = df[df['Sentiment_Label'] == sentiment]\n",
    "    if filtered_songs.empty:\n",
    "        return \"I'm sorry, I couldn't find any songs for your sentiment.\"\n",
    "    song = filtered_songs.sample(1).iloc[0]     # Randomly select a song from the filtered songs\n",
    "    return f\"Based on your sentiment, I recommend the song '{song['Song_Name']}' by {song['Artist']}.\"\n",
    "\n"
   ]
  },
  {
   "cell_type": "code",
   "execution_count": 36,
   "metadata": {},
   "outputs": [
    {
     "data": {
      "text/plain": [
       "\"Based on your sentiment, I recommend the song 'Happy' by Pharrell Williams.\""
      ]
     },
     "execution_count": 36,
     "metadata": {},
     "output_type": "execute_result"
    }
   ],
   "source": [
    "#Testing recommend_song function\n",
    "recommend_song(\"I'm feeling excited today!\")  # Expected Output: A song recommendation for the 'Happy' sentiment"
   ]
  },
  {
   "cell_type": "code",
   "execution_count": null,
   "metadata": {},
   "outputs": [],
   "source": []
  },
  {
   "cell_type": "code",
   "execution_count": null,
   "metadata": {},
   "outputs": [],
   "source": []
  }
 ],
 "metadata": {
  "kernelspec": {
   "display_name": "base",
   "language": "python",
   "name": "python3"
  },
  "language_info": {
   "codemirror_mode": {
    "name": "ipython",
    "version": 3
   },
   "file_extension": ".py",
   "mimetype": "text/x-python",
   "name": "python",
   "nbconvert_exporter": "python",
   "pygments_lexer": "ipython3",
   "version": "3.12.2"
  }
 },
 "nbformat": 4,
 "nbformat_minor": 2
}
